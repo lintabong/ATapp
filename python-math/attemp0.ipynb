{
  "nbformat": 4,
  "nbformat_minor": 0,
  "metadata": {
    "colab": {
      "name": "Untitled0.ipynb",
      "provenance": [],
      "include_colab_link": true
    },
    "kernelspec": {
      "name": "python3",
      "display_name": "Python 3"
    },
    "language_info": {
      "name": "python"
    }
  },
  "cells": [
    {
      "cell_type": "markdown",
      "metadata": {
        "id": "view-in-github",
        "colab_type": "text"
      },
      "source": [
        "<a href=\"https://colab.research.google.com/github/lintabong/ATapp/blob/master/python-math/attemp0.ipynb\" target=\"_parent\"><img src=\"https://colab.research.google.com/assets/colab-badge.svg\" alt=\"Open In Colab\"/></a>"
      ]
    },
    {
      "cell_type": "code",
      "execution_count": null,
      "metadata": {
        "id": "oyMlFDPx9VE0"
      },
      "outputs": [],
      "source": [
        "import numpy\n",
        "import sympy"
      ]
    },
    {
      "cell_type": "code",
      "source": [
        "x = sympy.symbols('x')\n",
        "E = 10\n",
        "I = 2\n",
        "L = 3\n",
        "k_x = 2 + x"
      ],
      "metadata": {
        "id": "L6Whgqwn9saM"
      },
      "execution_count": null,
      "outputs": []
    },
    {
      "cell_type": "code",
      "source": [
        "def result(e, i, l, K_x):\n",
        "  x = sympy.symbols('x')\n",
        "  N1 = 1 - 3*(x**2)/(l**2) + 2*(x**3)/(l**3)\n",
        "  N2 = x - 2*(x**2)/l + (x**3)/(l**2)\n",
        "  N3 = 3*(x**2)/(l**2) - 2*(x**3)/(l**3)\n",
        "  N4 = -(x**2)/l + (x**3)/(l**2)\n",
        "  N  = numpy.matrix([N1, N2, N3, N4])\n",
        "\n",
        "  B1 = -6/(l**2) + 12*x/(l**3)\n",
        "  B2 = -4/l + 6*x/(l**2)\n",
        "  B3 = 6/(l**2) - 12*x/(l**3)\n",
        "  B4 = -2/l + 6*x/(l**2)\n",
        "  B = numpy.matrix([B1, B2, B3, B4])\n",
        "\n",
        "  kb = numpy.transpose(B)*e*i*B\n",
        "  kn = numpy.transpose(N)*N\n",
        "\n",
        "  for j in range(4):\n",
        "    for k in range(4):\n",
        "      kn[j,k] = kn[j,k]*K_x\n",
        "\n",
        "  for j in range(4):\n",
        "    for k in range(4):\n",
        "      kb[j,k] = sympy.integrate(kb[j,k], (x,0,L))\n",
        "      kn[j,k] = sympy.integrate(kn[j,k], (x,0,L))\n",
        "      \n",
        "  return kb + kn"
      ],
      "metadata": {
        "id": "KCd2dy5B-AjV"
      },
      "execution_count": 180,
      "outputs": []
    },
    {
      "cell_type": "code",
      "source": [
        "x = sympy.symbols('x')\n",
        "y = result(10,2,3,2+x)\n",
        "\n",
        "print(y)"
      ],
      "metadata": {
        "colab": {
          "base_uri": "https://localhost:8080/"
        },
        "id": "C-5uzbI9PbfK",
        "outputId": "d5ae5ede-1c26-41ea-ff42-2cc8f76449a9"
      },
      "execution_count": 179,
      "outputs": [
        {
          "output_type": "stream",
          "name": "stdout",
          "text": [
            "[[11.8888888888889 14.7261904761905 -7.53888888888889 12.3904761904762]\n",
            " [14.7261904761905 27.4702380952381 -12.3261904761905 12.6583333333334]\n",
            " [-7.53888888888889 -12.3261904761905 13.6888888888889 -15.2404761904762]\n",
            " [12.3904761904762 12.6583333333334 -15.2404761904762 27.6630952380953]]\n"
          ]
        }
      ]
    }
  ]
}